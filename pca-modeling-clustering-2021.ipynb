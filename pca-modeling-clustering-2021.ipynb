{
 "cells": [
  {
   "cell_type": "code",
   "execution_count": 1,
   "id": "948380ab",
   "metadata": {
    "_cell_guid": "b1076dfc-b9ad-4769-8c92-a6c4dae69d19",
    "_uuid": "8f2839f25d086af736a60e9eeb907d3b93b6e0e5",
    "execution": {
     "iopub.execute_input": "2022-06-10T04:12:14.627423Z",
     "iopub.status.busy": "2022-06-10T04:12:14.626510Z",
     "iopub.status.idle": "2022-06-10T04:12:14.646619Z",
     "shell.execute_reply": "2022-06-10T04:12:14.645641Z"
    },
    "papermill": {
     "duration": 0.034277,
     "end_time": "2022-06-10T04:12:14.649485",
     "exception": false,
     "start_time": "2022-06-10T04:12:14.615208",
     "status": "completed"
    },
    "tags": []
   },
   "outputs": [
    {
     "name": "stdout",
     "output_type": "stream",
     "text": [
      "/kaggle/input/heavyandconstruction/HeavyandConstructioncompanies.csv\n",
      "/kaggle/input/heavyandconstruction2021/HeavyandConstructioncompanies2021.csv\n"
     ]
    }
   ],
   "source": [
    "# This Python 3 environment comes with many helpful analytics libraries installed\n",
    "# It is defined by the kaggle/python Docker image: https://github.com/kaggle/docker-python\n",
    "# For example, here's several helpful packages to load\n",
    "\n",
    "import numpy as np # linear algebra\n",
    "import pandas as pd # data processing, CSV file I/O (e.g. pd.read_csv)\n",
    "\n",
    "# Input data files are available in the read-only \"../input/\" directory\n",
    "# For example, running this (by clicking run or pressing Shift+Enter) will list all files under the input directory\n",
    "\n",
    "import os\n",
    "for dirname, _, filenames in os.walk('/kaggle/input'):\n",
    "    for filename in filenames:\n",
    "        print(os.path.join(dirname, filename))\n",
    "\n",
    "# You can write up to 20GB to the current directory (/kaggle/working/) that gets preserved as output when you create a version using \"Save & Run All\" \n",
    "# You can also write temporary files to /kaggle/temp/, but they won't be saved outside of the current session"
   ]
  },
  {
   "cell_type": "code",
   "execution_count": 2,
   "id": "32ad0809",
   "metadata": {
    "execution": {
     "iopub.execute_input": "2022-06-10T04:12:14.664189Z",
     "iopub.status.busy": "2022-06-10T04:12:14.663837Z",
     "iopub.status.idle": "2022-06-10T04:12:16.135958Z",
     "shell.execute_reply": "2022-06-10T04:12:16.135016Z"
    },
    "papermill": {
     "duration": 1.482066,
     "end_time": "2022-06-10T04:12:16.138298",
     "exception": false,
     "start_time": "2022-06-10T04:12:14.656232",
     "status": "completed"
    },
    "tags": []
   },
   "outputs": [],
   "source": [
    "import pandas as pd\n",
    "import numpy as np\n",
    "from matplotlib import pyplot as plt\n",
    "import seaborn as sns\n",
    "from sklearn.decomposition import PCA\n",
    "from matplotlib.colors import ListedColormap\n",
    "from sklearn.preprocessing import StandardScaler\n",
    "from sklearn.datasets import load_iris"
   ]
  },
  {
   "cell_type": "markdown",
   "id": "f59cacdf",
   "metadata": {
    "papermill": {
     "duration": 0.006305,
     "end_time": "2022-06-10T04:12:16.151238",
     "exception": false,
     "start_time": "2022-06-10T04:12:16.144933",
     "status": "completed"
    },
    "tags": []
   },
   "source": [
    "**PCA and Clustering of Heavy and Construction Industry Financial Ratio 2021**"
   ]
  },
  {
   "cell_type": "code",
   "execution_count": 3,
   "id": "9955bdb9",
   "metadata": {
    "execution": {
     "iopub.execute_input": "2022-06-10T04:12:16.166629Z",
     "iopub.status.busy": "2022-06-10T04:12:16.166052Z",
     "iopub.status.idle": "2022-06-10T04:12:16.200503Z",
     "shell.execute_reply": "2022-06-10T04:12:16.198842Z"
    },
    "papermill": {
     "duration": 0.044887,
     "end_time": "2022-06-10T04:12:16.202864",
     "exception": false,
     "start_time": "2022-06-10T04:12:16.157977",
     "status": "completed"
    },
    "tags": []
   },
   "outputs": [
    {
     "name": "stdout",
     "output_type": "stream",
     "text": [
      "<class 'pandas.core.frame.DataFrame'>\n",
      "RangeIndex: 22 entries, 0 to 21\n",
      "Data columns (total 7 columns):\n",
      " #   Column       Non-Null Count  Dtype  \n",
      "---  ------       --------------  -----  \n",
      " 0   Code         22 non-null     object \n",
      " 1   P/E Ratio    22 non-null     float64\n",
      " 2   Price to BV  22 non-null     float64\n",
      " 3   D/E Ratio    22 non-null     float64\n",
      " 4   ROA          22 non-null     float64\n",
      " 5   ROE          22 non-null     float64\n",
      " 6   NPM          22 non-null     float64\n",
      "dtypes: float64(6), object(1)\n",
      "memory usage: 1.3+ KB\n"
     ]
    }
   ],
   "source": [
    "data = pd.read_csv('../input/heavyandconstruction2021/HeavyandConstructioncompanies2021.csv')\n",
    "data.info()"
   ]
  },
  {
   "cell_type": "code",
   "execution_count": 4,
   "id": "d83b2b65",
   "metadata": {
    "execution": {
     "iopub.execute_input": "2022-06-10T04:12:16.218062Z",
     "iopub.status.busy": "2022-06-10T04:12:16.217214Z",
     "iopub.status.idle": "2022-06-10T04:12:16.237749Z",
     "shell.execute_reply": "2022-06-10T04:12:16.236720Z"
    },
    "papermill": {
     "duration": 0.030109,
     "end_time": "2022-06-10T04:12:16.239696",
     "exception": false,
     "start_time": "2022-06-10T04:12:16.209587",
     "status": "completed"
    },
    "tags": []
   },
   "outputs": [
    {
     "data": {
      "text/html": [
       "<div>\n",
       "<style scoped>\n",
       "    .dataframe tbody tr th:only-of-type {\n",
       "        vertical-align: middle;\n",
       "    }\n",
       "\n",
       "    .dataframe tbody tr th {\n",
       "        vertical-align: top;\n",
       "    }\n",
       "\n",
       "    .dataframe thead th {\n",
       "        text-align: right;\n",
       "    }\n",
       "</style>\n",
       "<table border=\"1\" class=\"dataframe\">\n",
       "  <thead>\n",
       "    <tr style=\"text-align: right;\">\n",
       "      <th></th>\n",
       "      <th>Code</th>\n",
       "      <th>P/E Ratio</th>\n",
       "      <th>Price to BV</th>\n",
       "      <th>D/E Ratio</th>\n",
       "      <th>ROA</th>\n",
       "      <th>ROE</th>\n",
       "      <th>NPM</th>\n",
       "    </tr>\n",
       "  </thead>\n",
       "  <tbody>\n",
       "    <tr>\n",
       "      <th>0</th>\n",
       "      <td>ACST</td>\n",
       "      <td>-3.05</td>\n",
       "      <td>2.06</td>\n",
       "      <td>1.14</td>\n",
       "      <td>-0.17</td>\n",
       "      <td>-0.36</td>\n",
       "      <td>-0.48</td>\n",
       "    </tr>\n",
       "    <tr>\n",
       "      <th>1</th>\n",
       "      <td>ADHI</td>\n",
       "      <td>142.50</td>\n",
       "      <td>0.65</td>\n",
       "      <td>6.28</td>\n",
       "      <td>0.26</td>\n",
       "      <td>1.00</td>\n",
       "      <td>0.88</td>\n",
       "    </tr>\n",
       "    <tr>\n",
       "      <th>2</th>\n",
       "      <td>BUKK</td>\n",
       "      <td>8.12</td>\n",
       "      <td>1.02</td>\n",
       "      <td>0.66</td>\n",
       "      <td>0.08</td>\n",
       "      <td>0.13</td>\n",
       "      <td>0.15</td>\n",
       "    </tr>\n",
       "    <tr>\n",
       "      <th>3</th>\n",
       "      <td>DGIK</td>\n",
       "      <td>533.60</td>\n",
       "      <td>1.69</td>\n",
       "      <td>0.54</td>\n",
       "      <td>0.01</td>\n",
       "      <td>0.02</td>\n",
       "      <td>0.06</td>\n",
       "    </tr>\n",
       "    <tr>\n",
       "      <th>4</th>\n",
       "      <td>IDPR</td>\n",
       "      <td>-1.47</td>\n",
       "      <td>0.65</td>\n",
       "      <td>1.32</td>\n",
       "      <td>-0.10</td>\n",
       "      <td>-0.23</td>\n",
       "      <td>-0.24</td>\n",
       "    </tr>\n",
       "  </tbody>\n",
       "</table>\n",
       "</div>"
      ],
      "text/plain": [
       "   Code  P/E Ratio  Price to BV  D/E Ratio   ROA   ROE   NPM\n",
       "0  ACST      -3.05         2.06       1.14 -0.17 -0.36 -0.48\n",
       "1  ADHI     142.50         0.65       6.28  0.26  1.00  0.88\n",
       "2  BUKK       8.12         1.02       0.66  0.08  0.13  0.15\n",
       "3  DGIK     533.60         1.69       0.54  0.01  0.02  0.06\n",
       "4  IDPR      -1.47         0.65       1.32 -0.10 -0.23 -0.24"
      ]
     },
     "execution_count": 4,
     "metadata": {},
     "output_type": "execute_result"
    }
   ],
   "source": [
    "data.head()"
   ]
  },
  {
   "cell_type": "code",
   "execution_count": 5,
   "id": "9246a4ef",
   "metadata": {
    "execution": {
     "iopub.execute_input": "2022-06-10T04:12:16.255343Z",
     "iopub.status.busy": "2022-06-10T04:12:16.254928Z",
     "iopub.status.idle": "2022-06-10T04:12:16.262484Z",
     "shell.execute_reply": "2022-06-10T04:12:16.261637Z"
    },
    "papermill": {
     "duration": 0.017981,
     "end_time": "2022-06-10T04:12:16.264419",
     "exception": false,
     "start_time": "2022-06-10T04:12:16.246438",
     "status": "completed"
    },
    "tags": []
   },
   "outputs": [],
   "source": [
    "X = data.iloc[:, 1:6].values\n",
    "y = data.iloc[:, 0].values"
   ]
  },
  {
   "cell_type": "code",
   "execution_count": 6,
   "id": "ca83be9e",
   "metadata": {
    "execution": {
     "iopub.execute_input": "2022-06-10T04:12:16.279315Z",
     "iopub.status.busy": "2022-06-10T04:12:16.278945Z",
     "iopub.status.idle": "2022-06-10T04:12:16.284358Z",
     "shell.execute_reply": "2022-06-10T04:12:16.283468Z"
    },
    "papermill": {
     "duration": 0.015044,
     "end_time": "2022-06-10T04:12:16.286222",
     "exception": false,
     "start_time": "2022-06-10T04:12:16.271178",
     "status": "completed"
    },
    "tags": []
   },
   "outputs": [],
   "source": [
    "scaler = StandardScaler()\n",
    "\n",
    "X = scaler.fit_transform(X)"
   ]
  },
  {
   "cell_type": "code",
   "execution_count": 7,
   "id": "1c4f147a",
   "metadata": {
    "execution": {
     "iopub.execute_input": "2022-06-10T04:12:16.301908Z",
     "iopub.status.busy": "2022-06-10T04:12:16.301179Z",
     "iopub.status.idle": "2022-06-10T04:12:16.307950Z",
     "shell.execute_reply": "2022-06-10T04:12:16.307337Z"
    },
    "papermill": {
     "duration": 0.016621,
     "end_time": "2022-06-10T04:12:16.309588",
     "exception": false,
     "start_time": "2022-06-10T04:12:16.292967",
     "status": "completed"
    },
    "tags": []
   },
   "outputs": [
    {
     "data": {
      "text/plain": [
       "array([[-0.26246584, -0.07587757, -0.36903501, -1.52733099, -1.39507615],\n",
       "       [ 0.11781083, -0.29961542,  2.8683955 ,  2.46398149,  3.75809401],\n",
       "       [-0.23328212, -0.24090407, -0.67136315,  0.79319952,  0.46158075],\n",
       "       [ 1.13963295, -0.13458892, -0.74694519,  0.14345098,  0.04478022],\n",
       "       [-0.2583378 , -0.29961542, -0.25566196, -0.87758245, -0.9024937 ],\n",
       "       [-0.29852093, -0.27898711, -0.70915417,  0.14345098,  0.00688926],\n",
       "       [-0.26003604, -0.26311917, -0.90440776, -2.9196493 , -1.58453093],\n",
       "       [-0.61099837, -0.10761343,  0.28600929,  0.32909342,  0.31001692],\n",
       "       [-0.16678922, -0.30120221, -0.50130358,  0.14345098,  0.00688926],\n",
       "       [-0.19869014, -0.09015871, -0.93590028,  0.79319952,  0.34790788],\n",
       "       [-0.20310558, -0.29802863, -0.21157244,  0.14345098,  0.08267118],\n",
       "       [-0.45836516,  0.0954961 ,  0.5190539 , -0.04219146, -0.22045648],\n",
       "       [-0.16156385, -0.33452487,  0.77729252,  0.2362722 ,  0.04478022],\n",
       "       [-0.20519573, -0.14728327, -0.93590028,  0.88602074,  0.42368979],\n",
       "       [-0.91294667,  4.55597197, -0.95479579, -1.24886733, -0.67514796],\n",
       "       [-0.27108771, -0.31230977, -0.47610956, -0.13501268, -0.18256552],\n",
       "       [-0.30594097, -0.21392858,  0.41827785,  0.14345098,  0.12056214],\n",
       "       [ 4.2930946 , -0.09015871,  0.01517367,  0.14345098,  0.00688926],\n",
       "       [-0.22531343, -0.25359841, -0.29345298,  0.42191464,  0.31001692],\n",
       "       [-0.23095683, -0.27898711, -0.14858741,  0.32909342,  0.23423501],\n",
       "       [-0.09927738, -0.31548335,  0.720606  , -0.04219146, -0.06889265],\n",
       "       [-0.1876646 , -0.31548335,  2.50938083, -0.32065513, -1.12983945]])"
      ]
     },
     "execution_count": 7,
     "metadata": {},
     "output_type": "execute_result"
    }
   ],
   "source": [
    "X"
   ]
  },
  {
   "cell_type": "code",
   "execution_count": 8,
   "id": "e0376e67",
   "metadata": {
    "execution": {
     "iopub.execute_input": "2022-06-10T04:12:16.325301Z",
     "iopub.status.busy": "2022-06-10T04:12:16.324704Z",
     "iopub.status.idle": "2022-06-10T04:12:16.345994Z",
     "shell.execute_reply": "2022-06-10T04:12:16.345236Z"
    },
    "papermill": {
     "duration": 0.031651,
     "end_time": "2022-06-10T04:12:16.348056",
     "exception": false,
     "start_time": "2022-06-10T04:12:16.316405",
     "status": "completed"
    },
    "tags": []
   },
   "outputs": [],
   "source": [
    "pca = PCA(n_components=3)\n",
    "\n",
    "principal_components = pca.fit_transform(X)\n",
    "\n",
    "new_X = pd.DataFrame(data = principal_components, columns=['PC1','PC2','PC3'])"
   ]
  },
  {
   "cell_type": "code",
   "execution_count": 9,
   "id": "5c35d6d3",
   "metadata": {
    "execution": {
     "iopub.execute_input": "2022-06-10T04:12:16.363949Z",
     "iopub.status.busy": "2022-06-10T04:12:16.363355Z",
     "iopub.status.idle": "2022-06-10T04:12:16.372808Z",
     "shell.execute_reply": "2022-06-10T04:12:16.372076Z"
    },
    "papermill": {
     "duration": 0.019524,
     "end_time": "2022-06-10T04:12:16.374543",
     "exception": false,
     "start_time": "2022-06-10T04:12:16.355019",
     "status": "completed"
    },
    "tags": []
   },
   "outputs": [
    {
     "data": {
      "text/html": [
       "<div>\n",
       "<style scoped>\n",
       "    .dataframe tbody tr th:only-of-type {\n",
       "        vertical-align: middle;\n",
       "    }\n",
       "\n",
       "    .dataframe tbody tr th {\n",
       "        vertical-align: top;\n",
       "    }\n",
       "\n",
       "    .dataframe thead th {\n",
       "        text-align: right;\n",
       "    }\n",
       "</style>\n",
       "<table border=\"1\" class=\"dataframe\">\n",
       "  <thead>\n",
       "    <tr style=\"text-align: right;\">\n",
       "      <th></th>\n",
       "      <th>PC1</th>\n",
       "      <th>PC2</th>\n",
       "      <th>PC3</th>\n",
       "    </tr>\n",
       "  </thead>\n",
       "  <tbody>\n",
       "    <tr>\n",
       "      <th>0</th>\n",
       "      <td>-1.915796</td>\n",
       "      <td>0.414480</td>\n",
       "      <td>-0.740225</td>\n",
       "    </tr>\n",
       "    <tr>\n",
       "      <th>1</th>\n",
       "      <td>5.041063</td>\n",
       "      <td>-1.286268</td>\n",
       "      <td>0.310942</td>\n",
       "    </tr>\n",
       "    <tr>\n",
       "      <th>2</th>\n",
       "      <td>0.495984</td>\n",
       "      <td>-0.197508</td>\n",
       "      <td>0.240935</td>\n",
       "    </tr>\n",
       "    <tr>\n",
       "      <th>3</th>\n",
       "      <td>-0.008166</td>\n",
       "      <td>1.021214</td>\n",
       "      <td>0.832809</td>\n",
       "    </tr>\n",
       "    <tr>\n",
       "      <th>4</th>\n",
       "      <td>-1.120314</td>\n",
       "      <td>0.321001</td>\n",
       "      <td>-0.668703</td>\n",
       "    </tr>\n",
       "  </tbody>\n",
       "</table>\n",
       "</div>"
      ],
      "text/plain": [
       "        PC1       PC2       PC3\n",
       "0 -1.915796  0.414480 -0.740225\n",
       "1  5.041063 -1.286268  0.310942\n",
       "2  0.495984 -0.197508  0.240935\n",
       "3 -0.008166  1.021214  0.832809\n",
       "4 -1.120314  0.321001 -0.668703"
      ]
     },
     "execution_count": 9,
     "metadata": {},
     "output_type": "execute_result"
    }
   ],
   "source": [
    "new_X.head()"
   ]
  },
  {
   "cell_type": "code",
   "execution_count": 10,
   "id": "4b976fa6",
   "metadata": {
    "execution": {
     "iopub.execute_input": "2022-06-10T04:12:16.390975Z",
     "iopub.status.busy": "2022-06-10T04:12:16.390332Z",
     "iopub.status.idle": "2022-06-10T04:12:16.577394Z",
     "shell.execute_reply": "2022-06-10T04:12:16.576684Z"
    },
    "papermill": {
     "duration": 0.197707,
     "end_time": "2022-06-10T04:12:16.579384",
     "exception": false,
     "start_time": "2022-06-10T04:12:16.381677",
     "status": "completed"
    },
    "tags": []
   },
   "outputs": [
    {
     "data": {
      "image/png": "[encoded data removed]",
      "text/plain": [
       "<Figure size 432x288 with 1 Axes>"
      ]
     },
     "metadata": {
      "needs_background": "light"
     },
     "output_type": "display_data"
    }
   ],
   "source": [
    "per_var = np.round(pca.explained_variance_ratio_ * 100, decimals =1)\n",
    "\n",
    "label = ['PC' + str(x) for x in range (1, len(per_var)+1)]\n",
    "\n",
    "plt.bar (x=range(1, len(per_var)+1),height=per_var,tick_label=label)\n",
    "plt.ylabel('percentage of explained variance')\n",
    "plt.xlabel('principal components')\n",
    "plt.title('scree plot')\n",
    "plt.show()"
   ]
  },
  {
   "cell_type": "code",
   "execution_count": 11,
   "id": "dbfb0803",
   "metadata": {
    "execution": {
     "iopub.execute_input": "2022-06-10T04:12:16.596018Z",
     "iopub.status.busy": "2022-06-10T04:12:16.595406Z",
     "iopub.status.idle": "2022-06-10T04:12:16.616717Z",
     "shell.execute_reply": "2022-06-10T04:12:16.615780Z"
    },
    "papermill": {
     "duration": 0.031914,
     "end_time": "2022-06-10T04:12:16.618714",
     "exception": false,
     "start_time": "2022-06-10T04:12:16.586800",
     "status": "completed"
    },
    "tags": []
   },
   "outputs": [
    {
     "data": {
      "text/html": [
       "<div>\n",
       "<style scoped>\n",
       "    .dataframe tbody tr th:only-of-type {\n",
       "        vertical-align: middle;\n",
       "    }\n",
       "\n",
       "    .dataframe tbody tr th {\n",
       "        vertical-align: top;\n",
       "    }\n",
       "\n",
       "    .dataframe thead th {\n",
       "        text-align: right;\n",
       "    }\n",
       "</style>\n",
       "<table border=\"1\" class=\"dataframe\">\n",
       "  <thead>\n",
       "    <tr style=\"text-align: right;\">\n",
       "      <th></th>\n",
       "      <th>PC1</th>\n",
       "      <th>PC2</th>\n",
       "      <th>PC3</th>\n",
       "    </tr>\n",
       "  </thead>\n",
       "  <tbody>\n",
       "    <tr>\n",
       "      <th>count</th>\n",
       "      <td>2.200000e+01</td>\n",
       "      <td>2.200000e+01</td>\n",
       "      <td>2.200000e+01</td>\n",
       "    </tr>\n",
       "    <tr>\n",
       "      <th>mean</th>\n",
       "      <td>-1.614870e-16</td>\n",
       "      <td>-3.532528e-17</td>\n",
       "      <td>-1.009294e-17</td>\n",
       "    </tr>\n",
       "    <tr>\n",
       "      <th>std</th>\n",
       "      <td>1.556839e+00</td>\n",
       "      <td>1.058198e+00</td>\n",
       "      <td>9.401328e-01</td>\n",
       "    </tr>\n",
       "    <tr>\n",
       "      <th>min</th>\n",
       "      <td>-3.039437e+00</td>\n",
       "      <td>-2.752910e+00</td>\n",
       "      <td>-1.600243e+00</td>\n",
       "    </tr>\n",
       "    <tr>\n",
       "      <th>25%</th>\n",
       "      <td>-1.485504e-01</td>\n",
       "      <td>-2.000867e-01</td>\n",
       "      <td>-5.138767e-01</td>\n",
       "    </tr>\n",
       "    <tr>\n",
       "      <th>50%</th>\n",
       "      <td>2.811829e-01</td>\n",
       "      <td>-5.055935e-02</td>\n",
       "      <td>-1.570608e-01</td>\n",
       "    </tr>\n",
       "    <tr>\n",
       "      <th>75%</th>\n",
       "      <td>3.830833e-01</td>\n",
       "      <td>6.868354e-02</td>\n",
       "      <td>2.934405e-01</td>\n",
       "    </tr>\n",
       "    <tr>\n",
       "      <th>max</th>\n",
       "      <td>5.041063e+00</td>\n",
       "      <td>3.404508e+00</td>\n",
       "      <td>2.539286e+00</td>\n",
       "    </tr>\n",
       "  </tbody>\n",
       "</table>\n",
       "</div>"
      ],
      "text/plain": [
       "                PC1           PC2           PC3\n",
       "count  2.200000e+01  2.200000e+01  2.200000e+01\n",
       "mean  -1.614870e-16 -3.532528e-17 -1.009294e-17\n",
       "std    1.556839e+00  1.058198e+00  9.401328e-01\n",
       "min   -3.039437e+00 -2.752910e+00 -1.600243e+00\n",
       "25%   -1.485504e-01 -2.000867e-01 -5.138767e-01\n",
       "50%    2.811829e-01 -5.055935e-02 -1.570608e-01\n",
       "75%    3.830833e-01  6.868354e-02  2.934405e-01\n",
       "max    5.041063e+00  3.404508e+00  2.539286e+00"
      ]
     },
     "execution_count": 11,
     "metadata": {},
     "output_type": "execute_result"
    }
   ],
   "source": [
    "new_X.describe()"
   ]
  },
  {
   "cell_type": "code",
   "execution_count": 12,
   "id": "0e52f590",
   "metadata": {
    "execution": {
     "iopub.execute_input": "2022-06-10T04:12:16.636230Z",
     "iopub.status.busy": "2022-06-10T04:12:16.635577Z",
     "iopub.status.idle": "2022-06-10T04:12:16.649188Z",
     "shell.execute_reply": "2022-06-10T04:12:16.648289Z"
    },
    "papermill": {
     "duration": 0.024572,
     "end_time": "2022-06-10T04:12:16.651306",
     "exception": false,
     "start_time": "2022-06-10T04:12:16.626734",
     "status": "completed"
    },
    "tags": []
   },
   "outputs": [
    {
     "data": {
      "text/html": [
       "<div>\n",
       "<style scoped>\n",
       "    .dataframe tbody tr th:only-of-type {\n",
       "        vertical-align: middle;\n",
       "    }\n",
       "\n",
       "    .dataframe tbody tr th {\n",
       "        vertical-align: top;\n",
       "    }\n",
       "\n",
       "    .dataframe thead th {\n",
       "        text-align: right;\n",
       "    }\n",
       "</style>\n",
       "<table border=\"1\" class=\"dataframe\">\n",
       "  <thead>\n",
       "    <tr style=\"text-align: right;\">\n",
       "      <th></th>\n",
       "      <th>PC1</th>\n",
       "      <th>PC2</th>\n",
       "      <th>PC3</th>\n",
       "    </tr>\n",
       "  </thead>\n",
       "  <tbody>\n",
       "    <tr>\n",
       "      <th>0</th>\n",
       "      <td>-1.915796</td>\n",
       "      <td>0.414480</td>\n",
       "      <td>-0.740225</td>\n",
       "    </tr>\n",
       "    <tr>\n",
       "      <th>1</th>\n",
       "      <td>5.041063</td>\n",
       "      <td>-1.286268</td>\n",
       "      <td>0.310942</td>\n",
       "    </tr>\n",
       "    <tr>\n",
       "      <th>2</th>\n",
       "      <td>0.495984</td>\n",
       "      <td>-0.197508</td>\n",
       "      <td>0.240935</td>\n",
       "    </tr>\n",
       "    <tr>\n",
       "      <th>3</th>\n",
       "      <td>-0.008166</td>\n",
       "      <td>1.021214</td>\n",
       "      <td>0.832809</td>\n",
       "    </tr>\n",
       "    <tr>\n",
       "      <th>4</th>\n",
       "      <td>-1.120314</td>\n",
       "      <td>0.321001</td>\n",
       "      <td>-0.668703</td>\n",
       "    </tr>\n",
       "    <tr>\n",
       "      <th>5</th>\n",
       "      <td>-0.177261</td>\n",
       "      <td>-0.027444</td>\n",
       "      <td>-0.059814</td>\n",
       "    </tr>\n",
       "    <tr>\n",
       "      <th>6</th>\n",
       "      <td>-3.039437</td>\n",
       "      <td>0.811639</td>\n",
       "      <td>-1.005815</td>\n",
       "    </tr>\n",
       "    <tr>\n",
       "      <th>7</th>\n",
       "      <td>0.448272</td>\n",
       "      <td>-0.572256</td>\n",
       "      <td>-0.355716</td>\n",
       "    </tr>\n",
       "    <tr>\n",
       "      <th>8</th>\n",
       "      <td>-0.062420</td>\n",
       "      <td>0.065552</td>\n",
       "      <td>-0.080527</td>\n",
       "    </tr>\n",
       "    <tr>\n",
       "      <th>9</th>\n",
       "      <td>0.275900</td>\n",
       "      <td>-0.196134</td>\n",
       "      <td>0.429069</td>\n",
       "    </tr>\n",
       "    <tr>\n",
       "      <th>10</th>\n",
       "      <td>0.101233</td>\n",
       "      <td>-0.014380</td>\n",
       "      <td>-0.183694</td>\n",
       "    </tr>\n",
       "    <tr>\n",
       "      <th>11</th>\n",
       "      <td>-0.024829</td>\n",
       "      <td>-0.411166</td>\n",
       "      <td>-0.437343</td>\n",
       "    </tr>\n",
       "    <tr>\n",
       "      <th>12</th>\n",
       "      <td>0.577454</td>\n",
       "      <td>-0.073675</td>\n",
       "      <td>-0.539388</td>\n",
       "    </tr>\n",
       "    <tr>\n",
       "      <th>13</th>\n",
       "      <td>0.392044</td>\n",
       "      <td>-0.200946</td>\n",
       "      <td>0.425659</td>\n",
       "    </tr>\n",
       "    <tr>\n",
       "      <th>14</th>\n",
       "      <td>-3.011868</td>\n",
       "      <td>-2.752910</td>\n",
       "      <td>2.539286</td>\n",
       "    </tr>\n",
       "    <tr>\n",
       "      <th>15</th>\n",
       "      <td>-0.342292</td>\n",
       "      <td>0.069727</td>\n",
       "      <td>-0.260440</td>\n",
       "    </tr>\n",
       "    <tr>\n",
       "      <th>16</th>\n",
       "      <td>0.356201</td>\n",
       "      <td>-0.218712</td>\n",
       "      <td>-0.401722</td>\n",
       "    </tr>\n",
       "    <tr>\n",
       "      <th>17</th>\n",
       "      <td>0.734419</td>\n",
       "      <td>3.404508</td>\n",
       "      <td>2.262682</td>\n",
       "    </tr>\n",
       "    <tr>\n",
       "      <th>18</th>\n",
       "      <td>0.351376</td>\n",
       "      <td>-0.138964</td>\n",
       "      <td>-0.017930</td>\n",
       "    </tr>\n",
       "    <tr>\n",
       "      <th>19</th>\n",
       "      <td>0.319905</td>\n",
       "      <td>-0.114817</td>\n",
       "      <td>-0.130427</td>\n",
       "    </tr>\n",
       "    <tr>\n",
       "      <th>20</th>\n",
       "      <td>0.322066</td>\n",
       "      <td>0.036234</td>\n",
       "      <td>-0.559395</td>\n",
       "    </tr>\n",
       "    <tr>\n",
       "      <th>21</th>\n",
       "      <td>0.286466</td>\n",
       "      <td>0.060826</td>\n",
       "      <td>-1.600243</td>\n",
       "    </tr>\n",
       "  </tbody>\n",
       "</table>\n",
       "</div>"
      ],
      "text/plain": [
       "         PC1       PC2       PC3\n",
       "0  -1.915796  0.414480 -0.740225\n",
       "1   5.041063 -1.286268  0.310942\n",
       "2   0.495984 -0.197508  0.240935\n",
       "3  -0.008166  1.021214  0.832809\n",
       "4  -1.120314  0.321001 -0.668703\n",
       "5  -0.177261 -0.027444 -0.059814\n",
       "6  -3.039437  0.811639 -1.005815\n",
       "7   0.448272 -0.572256 -0.355716\n",
       "8  -0.062420  0.065552 -0.080527\n",
       "9   0.275900 -0.196134  0.429069\n",
       "10  0.101233 -0.014380 -0.183694\n",
       "11 -0.024829 -0.411166 -0.437343\n",
       "12  0.577454 -0.073675 -0.539388\n",
       "13  0.392044 -0.200946  0.425659\n",
       "14 -3.011868 -2.752910  2.539286\n",
       "15 -0.342292  0.069727 -0.260440\n",
       "16  0.356201 -0.218712 -0.401722\n",
       "17  0.734419  3.404508  2.262682\n",
       "18  0.351376 -0.138964 -0.017930\n",
       "19  0.319905 -0.114817 -0.130427\n",
       "20  0.322066  0.036234 -0.559395\n",
       "21  0.286466  0.060826 -1.600243"
      ]
     },
     "metadata": {},
     "output_type": "display_data"
    }
   ],
   "source": [
    "display(new_X)"
   ]
  },
  {
   "cell_type": "code",
   "execution_count": 13,
   "id": "946481b4",
   "metadata": {
    "execution": {
     "iopub.execute_input": "2022-06-10T04:12:16.668883Z",
     "iopub.status.busy": "2022-06-10T04:12:16.668495Z",
     "iopub.status.idle": "2022-06-10T04:12:17.572172Z",
     "shell.execute_reply": "2022-06-10T04:12:17.571020Z"
    },
    "papermill": {
     "duration": 0.914656,
     "end_time": "2022-06-10T04:12:17.574080",
     "exception": false,
     "start_time": "2022-06-10T04:12:16.659424",
     "status": "completed"
    },
    "tags": []
   },
   "outputs": [
    {
     "data": {
      "text/plain": [
       "<Figure size 1440x1440 with 0 Axes>"
      ]
     },
     "metadata": {},
     "output_type": "display_data"
    },
    {
     "data": {
      "image/png": "[encoded data removed]",
      "text/plain": [
       "<Figure size 360x360 with 6 Axes>"
      ]
     },
     "metadata": {
      "needs_background": "light"
     },
     "output_type": "display_data"
    }
   ],
   "source": [
    "plt.figure(figsize=(20, 20))\n",
    "sns.pairplot(new_X, vars = new_X.columns[1:6]);"
   ]
  },
  {
   "cell_type": "code",
   "execution_count": 14,
   "id": "922b137b",
   "metadata": {
    "execution": {
     "iopub.execute_input": "2022-06-10T04:12:17.592621Z",
     "iopub.status.busy": "2022-06-10T04:12:17.591904Z",
     "iopub.status.idle": "2022-06-10T04:12:18.722496Z",
     "shell.execute_reply": "2022-06-10T04:12:18.721488Z"
    },
    "papermill": {
     "duration": 1.142302,
     "end_time": "2022-06-10T04:12:18.724610",
     "exception": false,
     "start_time": "2022-06-10T04:12:17.582308",
     "status": "completed"
    },
    "tags": []
   },
   "outputs": [
    {
     "data": {
      "text/plain": [
       "[<matplotlib.lines.Line2D at 0x7f195d2e3810>]"
      ]
     },
     "execution_count": 14,
     "metadata": {},
     "output_type": "execute_result"
    },
    {
     "data": {
      "image/png": "[encoded data removed]",
      "text/plain": [
       "<Figure size 864x432 with 1 Axes>"
      ]
     },
     "metadata": {
      "needs_background": "light"
     },
     "output_type": "display_data"
    }
   ],
   "source": [
    "from sklearn.cluster import KMeans\n",
    "inertia = []\n",
    "\n",
    "for i in range(1, 23):\n",
    "  kmeans = KMeans(n_clusters=i, init='k-means++', max_iter=300, n_init=10, random_state=0)\n",
    "  kmeans.fit(new_X.values)\n",
    "  inertia.append(kmeans.inertia_)\n",
    "\n",
    "plt.figure(figsize=(12, 6))\n",
    "plt.plot(inertia)"
   ]
  },
  {
   "cell_type": "code",
   "execution_count": 15,
   "id": "456a6be7",
   "metadata": {
    "execution": {
     "iopub.execute_input": "2022-06-10T04:12:18.744542Z",
     "iopub.status.busy": "2022-06-10T04:12:18.743893Z",
     "iopub.status.idle": "2022-06-10T04:12:18.767773Z",
     "shell.execute_reply": "2022-06-10T04:12:18.766875Z"
    },
    "papermill": {
     "duration": 0.036977,
     "end_time": "2022-06-10T04:12:18.770507",
     "exception": false,
     "start_time": "2022-06-10T04:12:18.733530",
     "status": "completed"
    },
    "tags": []
   },
   "outputs": [],
   "source": [
    "from sklearn.cluster import KMeans\n",
    "kmeans = KMeans(n_clusters=4, init='k-means++', max_iter=300, n_init=12, random_state=0)\n",
    "label = kmeans.fit(new_X.values)"
   ]
  },
  {
   "cell_type": "code",
   "execution_count": 16,
   "id": "92be57fc",
   "metadata": {
    "execution": {
     "iopub.execute_input": "2022-06-10T04:12:18.791871Z",
     "iopub.status.busy": "2022-06-10T04:12:18.791178Z",
     "iopub.status.idle": "2022-06-10T04:12:18.797378Z",
     "shell.execute_reply": "2022-06-10T04:12:18.796490Z"
    },
    "papermill": {
     "duration": 0.018129,
     "end_time": "2022-06-10T04:12:18.799281",
     "exception": false,
     "start_time": "2022-06-10T04:12:18.781152",
     "status": "completed"
    },
    "tags": []
   },
   "outputs": [],
   "source": [
    "new_X['target'] = y\n",
    "new_X['fit'] = kmeans.labels_"
   ]
  },
  {
   "cell_type": "code",
   "execution_count": 17,
   "id": "5a85ab58",
   "metadata": {
    "execution": {
     "iopub.execute_input": "2022-06-10T04:12:18.818485Z",
     "iopub.status.busy": "2022-06-10T04:12:18.817876Z",
     "iopub.status.idle": "2022-06-10T04:12:19.490467Z",
     "shell.execute_reply": "2022-06-10T04:12:19.489565Z"
    },
    "papermill": {
     "duration": 0.684804,
     "end_time": "2022-06-10T04:12:19.492775",
     "exception": false,
     "start_time": "2022-06-10T04:12:18.807971",
     "status": "completed"
    },
    "tags": []
   },
   "outputs": [
    {
     "data": {
      "image/png": "[encoded data removed]",
      "text/plain": [
       "<Figure size 576x576 with 1 Axes>"
      ]
     },
     "metadata": {
      "needs_background": "light"
     },
     "output_type": "display_data"
    }
   ],
   "source": [
    "plt.rcParams[\"figure.figsize\"] = (8, 8)\n",
    "sns.scatterplot(x='PC1', y='PC2', hue=new_X.target.to_list(), data=new_X);"
   ]
  },
  {
   "cell_type": "code",
   "execution_count": 18,
   "id": "676ee46e",
   "metadata": {
    "execution": {
     "iopub.execute_input": "2022-06-10T04:12:19.513082Z",
     "iopub.status.busy": "2022-06-10T04:12:19.512553Z",
     "iopub.status.idle": "2022-06-10T04:12:19.526506Z",
     "shell.execute_reply": "2022-06-10T04:12:19.525848Z"
    },
    "papermill": {
     "duration": 0.026375,
     "end_time": "2022-06-10T04:12:19.528370",
     "exception": false,
     "start_time": "2022-06-10T04:12:19.501995",
     "status": "completed"
    },
    "tags": []
   },
   "outputs": [
    {
     "data": {
      "text/html": [
       "<div>\n",
       "<style scoped>\n",
       "    .dataframe tbody tr th:only-of-type {\n",
       "        vertical-align: middle;\n",
       "    }\n",
       "\n",
       "    .dataframe tbody tr th {\n",
       "        vertical-align: top;\n",
       "    }\n",
       "\n",
       "    .dataframe thead th {\n",
       "        text-align: right;\n",
       "    }\n",
       "</style>\n",
       "<table border=\"1\" class=\"dataframe\">\n",
       "  <thead>\n",
       "    <tr style=\"text-align: right;\">\n",
       "      <th></th>\n",
       "      <th>PC1</th>\n",
       "      <th>PC2</th>\n",
       "      <th>PC3</th>\n",
       "      <th>target</th>\n",
       "      <th>fit</th>\n",
       "    </tr>\n",
       "  </thead>\n",
       "  <tbody>\n",
       "    <tr>\n",
       "      <th>0</th>\n",
       "      <td>-1.915796</td>\n",
       "      <td>0.414480</td>\n",
       "      <td>-0.740225</td>\n",
       "      <td>ACST</td>\n",
       "      <td>0</td>\n",
       "    </tr>\n",
       "    <tr>\n",
       "      <th>1</th>\n",
       "      <td>5.041063</td>\n",
       "      <td>-1.286268</td>\n",
       "      <td>0.310942</td>\n",
       "      <td>ADHI</td>\n",
       "      <td>3</td>\n",
       "    </tr>\n",
       "    <tr>\n",
       "      <th>2</th>\n",
       "      <td>0.495984</td>\n",
       "      <td>-0.197508</td>\n",
       "      <td>0.240935</td>\n",
       "      <td>BUKK</td>\n",
       "      <td>0</td>\n",
       "    </tr>\n",
       "    <tr>\n",
       "      <th>3</th>\n",
       "      <td>-0.008166</td>\n",
       "      <td>1.021214</td>\n",
       "      <td>0.832809</td>\n",
       "      <td>DGIK</td>\n",
       "      <td>0</td>\n",
       "    </tr>\n",
       "    <tr>\n",
       "      <th>4</th>\n",
       "      <td>-1.120314</td>\n",
       "      <td>0.321001</td>\n",
       "      <td>-0.668703</td>\n",
       "      <td>IDPR</td>\n",
       "      <td>0</td>\n",
       "    </tr>\n",
       "    <tr>\n",
       "      <th>5</th>\n",
       "      <td>-0.177261</td>\n",
       "      <td>-0.027444</td>\n",
       "      <td>-0.059814</td>\n",
       "      <td>JKON</td>\n",
       "      <td>0</td>\n",
       "    </tr>\n",
       "    <tr>\n",
       "      <th>6</th>\n",
       "      <td>-3.039437</td>\n",
       "      <td>0.811639</td>\n",
       "      <td>-1.005815</td>\n",
       "      <td>MTPS</td>\n",
       "      <td>0</td>\n",
       "    </tr>\n",
       "    <tr>\n",
       "      <th>7</th>\n",
       "      <td>0.448272</td>\n",
       "      <td>-0.572256</td>\n",
       "      <td>-0.355716</td>\n",
       "      <td>MTRA</td>\n",
       "      <td>0</td>\n",
       "    </tr>\n",
       "    <tr>\n",
       "      <th>8</th>\n",
       "      <td>-0.062420</td>\n",
       "      <td>0.065552</td>\n",
       "      <td>-0.080527</td>\n",
       "      <td>NRCA</td>\n",
       "      <td>0</td>\n",
       "    </tr>\n",
       "    <tr>\n",
       "      <th>9</th>\n",
       "      <td>0.275900</td>\n",
       "      <td>-0.196134</td>\n",
       "      <td>0.429069</td>\n",
       "      <td>PBSA</td>\n",
       "      <td>0</td>\n",
       "    </tr>\n",
       "    <tr>\n",
       "      <th>10</th>\n",
       "      <td>0.101233</td>\n",
       "      <td>-0.014380</td>\n",
       "      <td>-0.183694</td>\n",
       "      <td>PPRE</td>\n",
       "      <td>0</td>\n",
       "    </tr>\n",
       "    <tr>\n",
       "      <th>11</th>\n",
       "      <td>-0.024829</td>\n",
       "      <td>-0.411166</td>\n",
       "      <td>-0.437343</td>\n",
       "      <td>PTDU</td>\n",
       "      <td>0</td>\n",
       "    </tr>\n",
       "    <tr>\n",
       "      <th>12</th>\n",
       "      <td>0.577454</td>\n",
       "      <td>-0.073675</td>\n",
       "      <td>-0.539388</td>\n",
       "      <td>PTPP</td>\n",
       "      <td>0</td>\n",
       "    </tr>\n",
       "    <tr>\n",
       "      <th>13</th>\n",
       "      <td>0.392044</td>\n",
       "      <td>-0.200946</td>\n",
       "      <td>0.425659</td>\n",
       "      <td>PTPW</td>\n",
       "      <td>0</td>\n",
       "    </tr>\n",
       "    <tr>\n",
       "      <th>14</th>\n",
       "      <td>-3.011868</td>\n",
       "      <td>-2.752910</td>\n",
       "      <td>2.539286</td>\n",
       "      <td>RONY</td>\n",
       "      <td>1</td>\n",
       "    </tr>\n",
       "    <tr>\n",
       "      <th>15</th>\n",
       "      <td>-0.342292</td>\n",
       "      <td>0.069727</td>\n",
       "      <td>-0.260440</td>\n",
       "      <td>SSIA</td>\n",
       "      <td>0</td>\n",
       "    </tr>\n",
       "    <tr>\n",
       "      <th>16</th>\n",
       "      <td>0.356201</td>\n",
       "      <td>-0.218712</td>\n",
       "      <td>-0.401722</td>\n",
       "      <td>TAMA</td>\n",
       "      <td>0</td>\n",
       "    </tr>\n",
       "    <tr>\n",
       "      <th>17</th>\n",
       "      <td>0.734419</td>\n",
       "      <td>3.404508</td>\n",
       "      <td>2.262682</td>\n",
       "      <td>TOPS</td>\n",
       "      <td>2</td>\n",
       "    </tr>\n",
       "    <tr>\n",
       "      <th>18</th>\n",
       "      <td>0.351376</td>\n",
       "      <td>-0.138964</td>\n",
       "      <td>-0.017930</td>\n",
       "      <td>TOTL</td>\n",
       "      <td>0</td>\n",
       "    </tr>\n",
       "    <tr>\n",
       "      <th>19</th>\n",
       "      <td>0.319905</td>\n",
       "      <td>-0.114817</td>\n",
       "      <td>-0.130427</td>\n",
       "      <td>WEGE</td>\n",
       "      <td>0</td>\n",
       "    </tr>\n",
       "    <tr>\n",
       "      <th>20</th>\n",
       "      <td>0.322066</td>\n",
       "      <td>0.036234</td>\n",
       "      <td>-0.559395</td>\n",
       "      <td>WIKA</td>\n",
       "      <td>0</td>\n",
       "    </tr>\n",
       "    <tr>\n",
       "      <th>21</th>\n",
       "      <td>0.286466</td>\n",
       "      <td>0.060826</td>\n",
       "      <td>-1.600243</td>\n",
       "      <td>WSKT</td>\n",
       "      <td>0</td>\n",
       "    </tr>\n",
       "  </tbody>\n",
       "</table>\n",
       "</div>"
      ],
      "text/plain": [
       "         PC1       PC2       PC3 target  fit\n",
       "0  -1.915796  0.414480 -0.740225   ACST    0\n",
       "1   5.041063 -1.286268  0.310942   ADHI    3\n",
       "2   0.495984 -0.197508  0.240935   BUKK    0\n",
       "3  -0.008166  1.021214  0.832809   DGIK    0\n",
       "4  -1.120314  0.321001 -0.668703   IDPR    0\n",
       "5  -0.177261 -0.027444 -0.059814   JKON    0\n",
       "6  -3.039437  0.811639 -1.005815   MTPS    0\n",
       "7   0.448272 -0.572256 -0.355716   MTRA    0\n",
       "8  -0.062420  0.065552 -0.080527   NRCA    0\n",
       "9   0.275900 -0.196134  0.429069   PBSA    0\n",
       "10  0.101233 -0.014380 -0.183694   PPRE    0\n",
       "11 -0.024829 -0.411166 -0.437343   PTDU    0\n",
       "12  0.577454 -0.073675 -0.539388   PTPP    0\n",
       "13  0.392044 -0.200946  0.425659   PTPW    0\n",
       "14 -3.011868 -2.752910  2.539286   RONY    1\n",
       "15 -0.342292  0.069727 -0.260440   SSIA    0\n",
       "16  0.356201 -0.218712 -0.401722   TAMA    0\n",
       "17  0.734419  3.404508  2.262682   TOPS    2\n",
       "18  0.351376 -0.138964 -0.017930   TOTL    0\n",
       "19  0.319905 -0.114817 -0.130427   WEGE    0\n",
       "20  0.322066  0.036234 -0.559395   WIKA    0\n",
       "21  0.286466  0.060826 -1.600243   WSKT    0"
      ]
     },
     "execution_count": 18,
     "metadata": {},
     "output_type": "execute_result"
    }
   ],
   "source": [
    "new_X.head(22)"
   ]
  },
  {
   "cell_type": "code",
   "execution_count": 19,
   "id": "174ad1d1",
   "metadata": {
    "execution": {
     "iopub.execute_input": "2022-06-10T04:12:19.549020Z",
     "iopub.status.busy": "2022-06-10T04:12:19.548509Z",
     "iopub.status.idle": "2022-06-10T04:12:19.560262Z",
     "shell.execute_reply": "2022-06-10T04:12:19.559645Z"
    },
    "papermill": {
     "duration": 0.024589,
     "end_time": "2022-06-10T04:12:19.562462",
     "exception": false,
     "start_time": "2022-06-10T04:12:19.537873",
     "status": "completed"
    },
    "tags": []
   },
   "outputs": [
    {
     "name": "stdout",
     "output_type": "stream",
     "text": [
      "<class 'pandas.core.frame.DataFrame'>\n",
      "RangeIndex: 22 entries, 0 to 21\n",
      "Data columns (total 4 columns):\n",
      " #   Column     Non-Null Count  Dtype  \n",
      "---  ------     --------------  -----  \n",
      " 0   fit        22 non-null     float64\n",
      " 1   PC1 (St.)  22 non-null     float64\n",
      " 2   PC2 (St.)  22 non-null     float64\n",
      " 3   PC3 (St.)  22 non-null     int32  \n",
      "dtypes: float64(3), int32(1)\n",
      "memory usage: 744.0 bytes\n"
     ]
    }
   ],
   "source": [
    "new_X.drop([\"target\"], axis=1, inplace=True)\n",
    "new_X.columns = ['fit','PC1 (St.)','PC2 (St.)','PC3 (St.)']\n",
    "new_X.info()"
   ]
  },
  {
   "cell_type": "code",
   "execution_count": 20,
   "id": "432642d4",
   "metadata": {
    "execution": {
     "iopub.execute_input": "2022-06-10T04:12:19.584258Z",
     "iopub.status.busy": "2022-06-10T04:12:19.583765Z",
     "iopub.status.idle": "2022-06-10T04:12:19.790643Z",
     "shell.execute_reply": "2022-06-10T04:12:19.789631Z"
    },
    "papermill": {
     "duration": 0.219853,
     "end_time": "2022-06-10T04:12:19.792892",
     "exception": false,
     "start_time": "2022-06-10T04:12:19.573039",
     "status": "completed"
    },
    "tags": []
   },
   "outputs": [
    {
     "data": {
      "image/png": "[encoded data removed]",
      "text/plain": [
       "<Figure size 576x576 with 1 Axes>"
      ]
     },
     "metadata": {
      "needs_background": "light"
     },
     "output_type": "display_data"
    }
   ],
   "source": [
    "plt.figure(figsize=(8,8))\n",
    "uniq = np.unique(label)\n",
    "for i in uniq:\n",
    "  plt.scatter(principal_components[label == i , 0] , principal_components[label == i , 1] , label = i)\n",
    "  \n",
    "plt.legend()\n",
    "plt.show()"
   ]
  },
  {
   "cell_type": "code",
   "execution_count": 21,
   "id": "c674a2d9",
   "metadata": {
    "execution": {
     "iopub.execute_input": "2022-06-10T04:12:19.817717Z",
     "iopub.status.busy": "2022-06-10T04:12:19.817318Z",
     "iopub.status.idle": "2022-06-10T04:12:20.565510Z",
     "shell.execute_reply": "2022-06-10T04:12:20.564546Z"
    },
    "papermill": {
     "duration": 0.764658,
     "end_time": "2022-06-10T04:12:20.567650",
     "exception": false,
     "start_time": "2022-06-10T04:12:19.802992",
     "status": "completed"
    },
    "tags": []
   },
   "outputs": [
    {
     "data": {
      "image/png": "[encoded data removed]",
      "text/plain": [
       "<Figure size 576x576 with 1 Axes>"
      ]
     },
     "metadata": {
      "needs_background": "light"
     },
     "output_type": "display_data"
    }
   ],
   "source": [
    "from mpl_toolkits.mplot3d import Axes3D\n",
    "\n",
    "fig = plt.figure()\n",
    "ax = fig.add_subplot(111, projection = '3d')\n",
    "\n",
    "\n",
    "x = new_X['PC1 (St.)']\n",
    "y = new_X['PC2 (St.)']\n",
    "z = new_X['PC3 (St.)']\n",
    "\n",
    "ax.set_xlabel(\"PC1 (St.)\")\n",
    "ax.set_ylabel(\"PC2 (St.)\")\n",
    "ax.set_zlabel(\"PC3 (St.)\")\n",
    "\n",
    "cmap = ListedColormap(sns.color_palette(\"RdYlGn\", 256).as_hex())\n",
    "\n",
    "sc = ax.scatter(x, y, z, s=40, c=new_X['fit'], marker='o', cmap=cmap, alpha=1)\n",
    "plt.legend(*sc.legend_elements(), bbox_to_anchor=(1.05, 1), loc=2)\n",
    "\n",
    "plt.show()"
   ]
  }
 ],
 "metadata": {
  "kernelspec": {
   "display_name": "Python 3",
   "language": "python",
   "name": "python3"
  },
  "language_info": {
   "codemirror_mode": {
    "name": "ipython",
    "version": 3
   },
   "file_extension": ".py",
   "mimetype": "text/x-python",
   "name": "python",
   "nbconvert_exporter": "python",
   "pygments_lexer": "ipython3",
   "version": "3.7.12"
  },
  "papermill": {
   "default_parameters": {},
   "duration": 16.367958,
   "end_time": "2022-06-10T04:12:21.300058",
   "environment_variables": {},
   "exception": null,
   "input_path": "__notebook__.ipynb",
   "output_path": "__notebook__.ipynb",
   "parameters": {},
   "start_time": "2022-06-10T04:12:04.932100",
   "version": "2.3.4"
  }
 },
 "nbformat": 4,
 "nbformat_minor": 5
}
